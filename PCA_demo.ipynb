{
 "cells": [
  {
   "cell_type": "code",
   "execution_count": null,
   "metadata": {},
   "outputs": [],
   "source": [
    "import pandas as pd\n",
    "import numpy as np\n",
    "\n",
    "# For PCA\n",
    "from statsmodels.multivariate import pca\n",
    "\n",
    "# For plotting and formatting the plots\n",
    "import matplotlib.pyplot as plt\n",
    "import matplotlib.ticker as mtkr\n",
    "import matplotlib.dates as mdts"
   ]
  },
  {
   "cell_type": "code",
   "execution_count": null,
   "metadata": {},
   "outputs": [],
   "source": [
    "# FUNCTION TO MAKE A SCATTER PLOT WITH EQUAL AXIS LENGTHS\n",
    "\n",
    "def plot_equal_lengths_scatters(data, x_name, y_name):\n",
    "    \"\"\"\n",
    "    This function makes a scatter plot. It also draws dotted lines to make the x-axis and y-axis more easy to see.\n",
    "\n",
    "    data: pandas DataFrame with dates on the index, and x- and y-axes names as columns.\n",
    "    This is the data for the scatter plot.\n",
    "    x_name: String; the column name of the x-axis.\n",
    "    y_name: String; the column name of the y-axis.\n",
    "\n",
    "    Return: The matplotlib.Figure and matplotlib.axes.Axes for the plot.\n",
    "    \"\"\"\n",
    "    fig, ax = plt.subplots(nrows=1, ncols=1)\n",
    "    ax.grid(visible=True, linestyle='dashed', lw=0.35, color='lightgray')\n",
    "    ax.axhline(y=0, color='black', linestyle=(0, (10, 6)), lw=0.5)\n",
    "    ax.axvline(x=0, color='black', linestyle=(0, (10, 6)), lw=0.5)\n",
    "    ax.scatter(x=data[x_name], y=data[y_name], s=15, marker='o', c='gainsboro', edgecolors='darkgrey')\n",
    "    ax.set_xlabel(xlabel=x_name)\n",
    "    ax.set_ylabel(ylabel=y_name)\n",
    "\n",
    "    xlim_left, xlim_right = ax.get_xlim()\n",
    "    ylim_bottom, ylim_top = ax.get_ylim()\n",
    "\n",
    "    lim = np.max(np.abs(np.array([xlim_left, xlim_right, ylim_bottom, ylim_top])))\n",
    "\n",
    "    ax.set_xlim(left=-lim, right=lim)\n",
    "    ax.set_ylim(bottom=-lim, top=lim)\n",
    "\n",
    "    return fig, ax\n",
    "\n",
    "# FUNCTION TO MAKE A TIME SERIES PLOT ON ONE AXIS\n",
    "\n",
    "def plot_timeseries_one_axis(data, y_label=None):\n",
    "    \"\"\"\n",
    "    This function plots a time series on a single axis.\n",
    "\n",
    "    data: pandas DataFrame with dates on the index.\n",
    "    y_label: A string providing the label to use for the y-axis. Optional. Defaults to None.\n",
    "\n",
    "    Return: The matplotlib.Figure and matplotlib.axes.Axes for the plot.\n",
    "    \"\"\"\n",
    "    fig, ax = plt.subplots(nrows=1, ncols=1)\n",
    "    ax.grid(visible=True, linestyle='dashed', lw=0.35, color='lightgray')\n",
    "    data.plot(ax=ax, lw=1.)\n",
    "    if y_label is not None:\n",
    "        ax.set_ylabel(ylabel=y_label)\n",
    "    ax.xaxis.set_major_formatter(mdts.DateFormatter('%b-%y'))\n",
    "    ax.legend(loc='best', framealpha=0)\n",
    "    return fig, ax\n",
    "\n",
    "# FUNCTION TO MAKE A TIME SERIES PLOT ON A PRIMARY AND A SECONDARY AXIS\n",
    "\n",
    "def plot_timeseries_two_axes(data, cols_primary, cols_secondary, y_label_primary=None, y_label_secondary=None):\n",
    "    \"\"\"\n",
    "    This function plots time series on a primary and secondary axis. (The maximum number of series that can be plotted\n",
    "    on primary and secondary axes together is 10.)\n",
    "\n",
    "    data: pandas DataFrame with dates on the index.\n",
    "    cols_primary: A list of columns to plot on the primary y-axis.\n",
    "    cols_secondary: A list of columns to plot on the secondary y-axis.\n",
    "    y_label_primary: A string providing the label to use for the primary y-axis. Optional. Defaults to None.\n",
    "    y_label_secondary: A string providing the label to use for the secondary y-axis. Optional. Defaults to None.\n",
    "\n",
    "    Return: The matplotlib.Figure, and the two matplotlib.axes.Axes objects corresponding to the primary and\n",
    "    secondary axes.\n",
    "    \"\"\"\n",
    "    colours = ['black', 'silver', 'lightcoral', 'red', 'peru', 'olivedrab', 'limegreen', 'deepskyblue', 'royalblue',\n",
    "               'darkorchid']\n",
    "\n",
    "    if not isinstance(cols_primary, list):\n",
    "        cols_primary = [cols_primary]\n",
    "    if not isinstance(cols_secondary, list):\n",
    "        cols_secondary = [cols_secondary]\n",
    "\n",
    "    data_primary = data[cols_primary].rename(\n",
    "        mapper={c: ' '.join([c, '(left)']) for c in cols_primary},\n",
    "        axis=1)\n",
    "    data_secondary = data[cols_secondary].rename(\n",
    "        mapper={c: ' '.join([c, '(right)']) for c in cols_secondary},\n",
    "        axis=1)\n",
    "\n",
    "    fig, ax = plt.subplots(nrows=1, ncols=1)\n",
    "    ax.grid(visible=True, linestyle='dashed', lw=0.35, color='lightgray')\n",
    "    data_primary.plot(ax=ax, lw=1., color=colours[:data_primary.shape[1]])\n",
    "    if y_label_primary is not None:\n",
    "        ax.set_ylabel(ylabel=y_label_primary)\n",
    "    ax.legend().set_visible(False)\n",
    "\n",
    "    ax2 = ax.twinx()\n",
    "    ax2.grid(visible=False)\n",
    "    data_secondary.plot(ax=ax2, lw=1.,\n",
    "                        color=colours[data_primary.shape[1]:(data_primary.shape[1] + data_secondary.shape[1])])\n",
    "    if y_label_secondary is not None:\n",
    "        ax2.set_ylabel(ylabel=y_label_secondary)\n",
    "    ax2.legend().set_visible(False)\n",
    "\n",
    "    ax.xaxis.set_major_formatter(mdts.DateFormatter('%b-%y'))\n",
    "    lns = ax.lines + ax2.lines\n",
    "    labs = [l.get_label() for l in lns]\n",
    "    ax.legend(lns, labs, loc='best', framealpha=0)\n",
    "\n",
    "    return fig, ax, ax2"
   ]
  },
  {
   "cell_type": "code",
   "execution_count": null,
   "metadata": {},
   "outputs": [],
   "source": [
    "MA_pca_changes = pd.read_csv('Copie de Multi-asset PCA_CHANGES=4w.csv',index_col=0)\n",
    "TAM_pca_changes=pd.read_csv('Copie de Traditional Assets_Multi-asset PCA_CHANGES=4w.csv',index_col=0)\n",
    "SSM_pca_changes=pd.read_csv('Copie de Traditional Assets_Multi-asset PCA_CHANGES=4w.csv',index_col=0)\n",
    "factors = pd.read_csv('Copie de equity_factor_performance_data.csv',index_col=0)"
   ]
  },
  {
   "cell_type": "code",
   "execution_count": null,
   "metadata": {},
   "outputs": [],
   "source": [
    "factors.plot()"
   ]
  },
  {
   "cell_type": "code",
   "execution_count": null,
   "metadata": {},
   "outputs": [],
   "source": [
    "MA_pca_changes_normalised = (MA_pca_changes - MA_pca_changes.mean()) / MA_pca_changes.std()"
   ]
  },
  {
   "cell_type": "code",
   "execution_count": null,
   "metadata": {},
   "outputs": [],
   "source": [
    "MA_pca_changes_normalised"
   ]
  },
  {
   "cell_type": "code",
   "execution_count": null,
   "metadata": {},
   "outputs": [],
   "source": [
    "MA_as_dict = MA_pca_changes_normalised.to_dict(orient='list')"
   ]
  },
  {
   "cell_type": "code",
   "execution_count": null,
   "metadata": {},
   "outputs": [],
   "source": [
    "MA_as_dict['MSCI World']"
   ]
  },
  {
   "cell_type": "code",
   "execution_count": null,
   "metadata": {},
   "outputs": [],
   "source": [
    "format_colour = lambda x: 'color:red' if x < 0. else 'color:lightgreen'"
   ]
  },
  {
   "cell_type": "code",
   "execution_count": null,
   "metadata": {},
   "outputs": [],
   "source": [
    "MA_pca_changes_normalised.corr().style.format(formatter='{:.0%}').applymap(format_colour)"
   ]
  },
  {
   "cell_type": "code",
   "execution_count": null,
   "metadata": {},
   "outputs": [],
   "source": [
    "# PERFORM PCA; OBTAIN THE LOADING MATRIX & SCORES\n",
    "\n",
    "pca_model = pca.PCA(data=MA_pca_changes_normalised.values, standardize=True, normalize=False)\n",
    "loadings = pca_model.loadings\n",
    "scores = pca_model.scores"
   ]
  },
  {
   "cell_type": "code",
   "execution_count": null,
   "metadata": {},
   "outputs": [],
   "source": [
    "loadings = loadings[0:6]\n",
    "loadings = loadings.T"
   ]
  },
  {
   "cell_type": "code",
   "execution_count": null,
   "metadata": {},
   "outputs": [],
   "source": [
    "loadings_df = pd.DataFrame(\n",
    "    index=MA_pca_changes_normalised.columns,\n",
    "    columns=[' '.join(['PC', str(j + 1)]) for j in range(loadings.shape[1])],\n",
    "    #columns=[' '.join(['PC', str(j + 1)]) for j in range(MA_pca_changes_normalised.shape[1])],\n",
    "    data=loadings)\n",
    "\n",
    "\n",
    "\n",
    "loadings_df.style.format(formatter='{:+.2f}').applymap(func=format_colour)"
   ]
  },
  {
   "cell_type": "code",
   "execution_count": null,
   "metadata": {},
   "outputs": [],
   "source": [
    "scores"
   ]
  },
  {
   "cell_type": "code",
   "execution_count": null,
   "metadata": {},
   "outputs": [],
   "source": [
    "scores_df = pd.DataFrame(\n",
    "    index=MA_pca_changes_normalised.index,\n",
    "    columns=loadings_df.columns,\n",
    "    data=scores)\n",
    "\n",
    "scores_df.style.format(formatter='{:+.4f}').applymap(func=format_colour)"
   ]
  },
  {
   "cell_type": "code",
   "execution_count": null,
   "metadata": {},
   "outputs": [],
   "source": [
    "# PLOT A TIME SERIES OF CUMULATED PRINCIPAL COMPONENT SCORES\n",
    "\n",
    "scores_cum_df = scores_df.cumsum()\n",
    "fig_1, ax_1 = plot_timeseries_one_axis(data=scores_cum_df)"
   ]
  },
  {
   "cell_type": "code",
   "execution_count": null,
   "metadata": {},
   "outputs": [],
   "source": [
    "pca = PCA()\n",
    "principal_components = pca.fit_transform(MA_pca_changes)"
   ]
  },
  {
   "cell_type": "code",
   "execution_count": null,
   "metadata": {},
   "outputs": [],
   "source": [
    "loadings_df = pd.DataFrame(pca.components_[:6], columns=MA_pca_changes.columns)\n",
    "print(\"Loadings of the first 6 Components:\")\n",
    "print(loadings_df)"
   ]
  }
 ],
 "metadata": {
  "language_info": {
   "name": "python"
  }
 },
 "nbformat": 4,
 "nbformat_minor": 2
}
